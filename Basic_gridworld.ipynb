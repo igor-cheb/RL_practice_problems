{
 "cells": [
  {
   "cell_type": "code",
   "execution_count": 4,
   "id": "a7b73be5",
   "metadata": {},
   "outputs": [],
   "source": [
    "import pandas\n",
    "import numpy as np\n",
    "import matplotlib.pyplot as plt\n",
    "import pandas as pd\n",
    "import seaborn as sns"
   ]
  },
  {
   "cell_type": "code",
   "execution_count": 2,
   "id": "62fb28e6",
   "metadata": {},
   "outputs": [],
   "source": [
    "states = list(range(0,16))\n",
    "naive_value_function = {} \n",
    "for state in states:\n",
    "    naive_value_function[state] = 0\n",
    "\n",
    "init_policy_dict = {}\n",
    "for state in states:\n",
    "    if state not in [0, 15]:\n",
    "        init_policy_dict[state] = ['up', 'down', 'left', 'right']\n",
    "    else:\n",
    "        init_policy_dict[state] = []"
   ]
  },
  {
   "cell_type": "code",
   "execution_count": 168,
   "id": "1d2dd15b",
   "metadata": {},
   "outputs": [],
   "source": [
    "def update_state(old_state, action):\n",
    "    translate_dict = {\n",
    "        'up': -4, \n",
    "        'down': 4, \n",
    "        'left': -1, \n",
    "        'right': 1\n",
    "    }\n",
    "    \n",
    "    restricted_moves = {\n",
    "        'up': [1,2,3],\n",
    "        'down': [12, 13, 14],\n",
    "        'left': [4, 8, 12],\n",
    "        'right': [3, 7, 11]\n",
    "    }\n",
    "    \n",
    "    if (old_state==0) or (old_state==15) or (old_state in restricted_moves[action]):\n",
    "        return old_state\n",
    "    else:\n",
    "        return np.clip(old_state+translate_dict[action], 0, 15)\n",
    "\n",
    "def calc_reward(state, action):\n",
    "    if state not in [0, 15]:\n",
    "        return -1\n",
    "    else:\n",
    "        return 0\n",
    "    \n",
    "def state_evaluation_max_action_selection(value_function, state, actions):\n",
    "    act_rew = {}\n",
    "    for act in actions:\n",
    "        new_state = update_state(state, act)\n",
    "        act_rew[act] = calc_reward(state, act)+value_function[new_state]    \n",
    "    if act_rew:\n",
    "        return {'max': [max(act_rew, key=act_rew.get)], 'mean': numpy.mean(list(act_rew.values()))}\n",
    "    else:\n",
    "        return {'max': [], 'mean': 0}\n",
    "\n",
    "def policy_evaluation(policy_dict, value_function):\n",
    "    new_val_func = value_function.copy()\n",
    "    all_difs = []\n",
    "    for count in range(100):\n",
    "        for state in new_val_func:\n",
    "            actions = policy_dict[state]\n",
    "            old_val = new_val_func[state]\n",
    "\n",
    "            new_state_val = state_evaluation_max_action_selection(new_val_func, state, actions)['mean']\n",
    "            all_difs.append(abs(old_val-new_state_val))\n",
    "            new_val_func[state] = new_state_val\n",
    "        if not count%20: print(count, numpy.mean(all_difs))\n",
    "#         print(new_val_func[(5,5)])\n",
    "    return new_val_func\n",
    "\n",
    "def improve_policy(policy_dict, value_function):\n",
    "    new_val_func = value_function.copy()\n",
    "    new_policy_dict = {}\n",
    "    for state in new_val_func:\n",
    "        actions = policy_dict[state]\n",
    "        best_act = state_evaluation_max_action_selection(new_val_func, state, actions)['max']\n",
    "        new_policy_dict[state] = best_act\n",
    "    return new_policy_dict\n",
    "\n",
    "def iterate_policy(policy_dict, value_function):\n",
    "    flag = True\n",
    "    all_policies = [policy_dict]\n",
    "    all_val_funcs = [value_function]\n",
    "    counter=0\n",
    "    while flag:\n",
    "        all_val_funcs.append(policy_evaluation(all_policies[-1], all_val_funcs[-1]))\n",
    "        all_policies.append(improve_policy(all_policies[-1], all_val_funcs[-1]))\n",
    "        \n",
    "        if all_policies[-1] == all_policies[-2]:\n",
    "            flag = False\n",
    "        counter+=1\n",
    "        print(counter)\n",
    "        print('^'*10)\n",
    "    return all_policies[-1]\n",
    "        "
   ]
  },
  {
   "cell_type": "code",
   "execution_count": 149,
   "id": "6f81ddb4",
   "metadata": {},
   "outputs": [
    {
     "name": "stdout",
     "output_type": "stream",
     "text": [
      "0 1.3212890625\n",
      "20 0.6399909591413854\n",
      "40 0.3793993618226454\n",
      "60 0.26102921516646205\n",
      "80 0.19736530410717915\n"
     ]
    }
   ],
   "source": [
    "new_value_function = policy_evaluation(init_policy_dict, naive_value_function)"
   ]
  },
  {
   "cell_type": "code",
   "execution_count": 150,
   "id": "072d581d",
   "metadata": {},
   "outputs": [
    {
     "data": {
      "text/html": [
       "<div>\n",
       "<style scoped>\n",
       "    .dataframe tbody tr th:only-of-type {\n",
       "        vertical-align: middle;\n",
       "    }\n",
       "\n",
       "    .dataframe tbody tr th {\n",
       "        vertical-align: top;\n",
       "    }\n",
       "\n",
       "    .dataframe thead th {\n",
       "        text-align: right;\n",
       "    }\n",
       "</style>\n",
       "<table border=\"1\" class=\"dataframe\">\n",
       "  <thead>\n",
       "    <tr style=\"text-align: right;\">\n",
       "      <th></th>\n",
       "      <th>0</th>\n",
       "      <th>1</th>\n",
       "      <th>2</th>\n",
       "      <th>3</th>\n",
       "    </tr>\n",
       "  </thead>\n",
       "  <tbody>\n",
       "    <tr>\n",
       "      <th>0</th>\n",
       "      <td>0.000000</td>\n",
       "      <td>-13.997658</td>\n",
       "      <td>-19.996634</td>\n",
       "      <td>-21.996295</td>\n",
       "    </tr>\n",
       "    <tr>\n",
       "      <th>1</th>\n",
       "      <td>-13.997658</td>\n",
       "      <td>-17.997127</td>\n",
       "      <td>-19.996880</td>\n",
       "      <td>-19.996916</td>\n",
       "    </tr>\n",
       "    <tr>\n",
       "      <th>2</th>\n",
       "      <td>-19.996634</td>\n",
       "      <td>-19.996880</td>\n",
       "      <td>-17.997367</td>\n",
       "      <td>-13.998034</td>\n",
       "    </tr>\n",
       "    <tr>\n",
       "      <th>3</th>\n",
       "      <td>-21.996295</td>\n",
       "      <td>-19.996916</td>\n",
       "      <td>-13.998034</td>\n",
       "      <td>0.000000</td>\n",
       "    </tr>\n",
       "  </tbody>\n",
       "</table>\n",
       "</div>"
      ],
      "text/plain": [
       "           0          1          2          3\n",
       "0   0.000000 -13.997658 -19.996634 -21.996295\n",
       "1 -13.997658 -17.997127 -19.996880 -19.996916\n",
       "2 -19.996634 -19.996880 -17.997367 -13.998034\n",
       "3 -21.996295 -19.996916 -13.998034   0.000000"
      ]
     },
     "execution_count": 150,
     "metadata": {},
     "output_type": "execute_result"
    }
   ],
   "source": [
    "pd.DataFrame(np.reshape(list(new_value_function.values()), (int(np.sqrt(len(states))), -1)))"
   ]
  },
  {
   "cell_type": "code",
   "execution_count": 151,
   "id": "407065ab",
   "metadata": {},
   "outputs": [],
   "source": [
    "new_policy = improve_policy(init_policy_dict, new_value_function)"
   ]
  },
  {
   "cell_type": "code",
   "execution_count": 161,
   "id": "cc206c7d",
   "metadata": {},
   "outputs": [
    {
     "data": {
      "text/plain": [
       "['left',\n",
       " 'left',\n",
       " 'left',\n",
       " 'up',\n",
       " 'up',\n",
       " 'left',\n",
       " 'down',\n",
       " 'up',\n",
       " 'up',\n",
       " 'down',\n",
       " 'down',\n",
       " 'up',\n",
       " 'right',\n",
       " 'right']"
      ]
     },
     "execution_count": 161,
     "metadata": {},
     "output_type": "execute_result"
    }
   ],
   "source": [
    "sum(list(new_policy.values()), [])"
   ]
  },
  {
   "cell_type": "code",
   "execution_count": 163,
   "id": "95a6a372",
   "metadata": {},
   "outputs": [
    {
     "name": "stderr",
     "output_type": "stream",
     "text": [
      "/Users/igorchebuniaev/.local/share/virtualenvs/RL_practice_problems-uv3A9O2j/lib/python3.9/site-packages/numpy/core/fromnumeric.py:43: VisibleDeprecationWarning: Creating an ndarray from ragged nested sequences (which is a list-or-tuple of lists-or-tuples-or ndarrays with different lengths or shapes) is deprecated. If you meant to do this, you must specify 'dtype=object' when creating the ndarray.\n",
      "  result = getattr(asarray(obj), method)(*args, **kwds)\n"
     ]
    },
    {
     "data": {
      "text/html": [
       "<div>\n",
       "<style scoped>\n",
       "    .dataframe tbody tr th:only-of-type {\n",
       "        vertical-align: middle;\n",
       "    }\n",
       "\n",
       "    .dataframe tbody tr th {\n",
       "        vertical-align: top;\n",
       "    }\n",
       "\n",
       "    .dataframe thead th {\n",
       "        text-align: right;\n",
       "    }\n",
       "</style>\n",
       "<table border=\"1\" class=\"dataframe\">\n",
       "  <thead>\n",
       "    <tr style=\"text-align: right;\">\n",
       "      <th></th>\n",
       "      <th>0</th>\n",
       "      <th>1</th>\n",
       "      <th>2</th>\n",
       "      <th>3</th>\n",
       "    </tr>\n",
       "  </thead>\n",
       "  <tbody>\n",
       "    <tr>\n",
       "      <th>0</th>\n",
       "      <td>[]</td>\n",
       "      <td>[left]</td>\n",
       "      <td>[left]</td>\n",
       "      <td>[left]</td>\n",
       "    </tr>\n",
       "    <tr>\n",
       "      <th>1</th>\n",
       "      <td>[up]</td>\n",
       "      <td>[up]</td>\n",
       "      <td>[left]</td>\n",
       "      <td>[down]</td>\n",
       "    </tr>\n",
       "    <tr>\n",
       "      <th>2</th>\n",
       "      <td>[up]</td>\n",
       "      <td>[up]</td>\n",
       "      <td>[down]</td>\n",
       "      <td>[down]</td>\n",
       "    </tr>\n",
       "    <tr>\n",
       "      <th>3</th>\n",
       "      <td>[up]</td>\n",
       "      <td>[right]</td>\n",
       "      <td>[right]</td>\n",
       "      <td>[]</td>\n",
       "    </tr>\n",
       "  </tbody>\n",
       "</table>\n",
       "</div>"
      ],
      "text/plain": [
       "      0        1        2       3\n",
       "0    []   [left]   [left]  [left]\n",
       "1  [up]     [up]   [left]  [down]\n",
       "2  [up]     [up]   [down]  [down]\n",
       "3  [up]  [right]  [right]      []"
      ]
     },
     "execution_count": 163,
     "metadata": {},
     "output_type": "execute_result"
    }
   ],
   "source": [
    "words_to_arrows={\n",
    "    None : '',\n",
    "    'left': '<-',\n",
    "    'right': '->',\n",
    "    'up': '↑',\n",
    "    'down': '↓'\n",
    "}\n",
    "pd.DataFrame(np.reshape(list(new_policy.values()), (int(np.sqrt(len(states))), -1))).replace(words_to_arrows)\n",
    "# "
   ]
  },
  {
   "cell_type": "code",
   "execution_count": 153,
   "id": "893b113b",
   "metadata": {},
   "outputs": [
    {
     "name": "stdout",
     "output_type": "stream",
     "text": [
      "0 11.810326532230837\n",
      "20 0.6784503804466153\n",
      "40 0.34749897535070545\n",
      "60 0.2335648850717856\n",
      "80 0.17589454307875213\n"
     ]
    }
   ],
   "source": [
    "new_new_value_function = policy_evaluation(new_policy, new_value_function)"
   ]
  },
  {
   "cell_type": "code",
   "execution_count": 154,
   "id": "d52ba5ac",
   "metadata": {},
   "outputs": [
    {
     "data": {
      "text/html": [
       "<div>\n",
       "<style scoped>\n",
       "    .dataframe tbody tr th:only-of-type {\n",
       "        vertical-align: middle;\n",
       "    }\n",
       "\n",
       "    .dataframe tbody tr th {\n",
       "        vertical-align: top;\n",
       "    }\n",
       "\n",
       "    .dataframe thead th {\n",
       "        text-align: right;\n",
       "    }\n",
       "</style>\n",
       "<table border=\"1\" class=\"dataframe\">\n",
       "  <thead>\n",
       "    <tr style=\"text-align: right;\">\n",
       "      <th></th>\n",
       "      <th>0</th>\n",
       "      <th>1</th>\n",
       "      <th>2</th>\n",
       "      <th>3</th>\n",
       "    </tr>\n",
       "  </thead>\n",
       "  <tbody>\n",
       "    <tr>\n",
       "      <th>0</th>\n",
       "      <td>0.0</td>\n",
       "      <td>-1.0</td>\n",
       "      <td>-2.0</td>\n",
       "      <td>-3.0</td>\n",
       "    </tr>\n",
       "    <tr>\n",
       "      <th>1</th>\n",
       "      <td>-1.0</td>\n",
       "      <td>-2.0</td>\n",
       "      <td>-3.0</td>\n",
       "      <td>-2.0</td>\n",
       "    </tr>\n",
       "    <tr>\n",
       "      <th>2</th>\n",
       "      <td>-2.0</td>\n",
       "      <td>-3.0</td>\n",
       "      <td>-2.0</td>\n",
       "      <td>-1.0</td>\n",
       "    </tr>\n",
       "    <tr>\n",
       "      <th>3</th>\n",
       "      <td>-3.0</td>\n",
       "      <td>-2.0</td>\n",
       "      <td>-1.0</td>\n",
       "      <td>0.0</td>\n",
       "    </tr>\n",
       "  </tbody>\n",
       "</table>\n",
       "</div>"
      ],
      "text/plain": [
       "     0    1    2    3\n",
       "0  0.0 -1.0 -2.0 -3.0\n",
       "1 -1.0 -2.0 -3.0 -2.0\n",
       "2 -2.0 -3.0 -2.0 -1.0\n",
       "3 -3.0 -2.0 -1.0  0.0"
      ]
     },
     "execution_count": 154,
     "metadata": {},
     "output_type": "execute_result"
    }
   ],
   "source": [
    "pd.DataFrame(np.reshape(list(new_new_value_function.values()), (int(np.sqrt(len(states))), -1)))"
   ]
  },
  {
   "cell_type": "code",
   "execution_count": 155,
   "id": "4e0a3147",
   "metadata": {},
   "outputs": [],
   "source": [
    "new_new_policy = improve_policy(new_policy, new_new_value_function)"
   ]
  },
  {
   "cell_type": "code",
   "execution_count": 156,
   "id": "3d28d4dd",
   "metadata": {},
   "outputs": [
    {
     "name": "stderr",
     "output_type": "stream",
     "text": [
      "/Users/igorchebuniaev/.local/share/virtualenvs/RL_practice_problems-uv3A9O2j/lib/python3.9/site-packages/numpy/core/fromnumeric.py:43: VisibleDeprecationWarning: Creating an ndarray from ragged nested sequences (which is a list-or-tuple of lists-or-tuples-or ndarrays with different lengths or shapes) is deprecated. If you meant to do this, you must specify 'dtype=object' when creating the ndarray.\n",
      "  result = getattr(asarray(obj), method)(*args, **kwds)\n"
     ]
    },
    {
     "data": {
      "text/html": [
       "<div>\n",
       "<style scoped>\n",
       "    .dataframe tbody tr th:only-of-type {\n",
       "        vertical-align: middle;\n",
       "    }\n",
       "\n",
       "    .dataframe tbody tr th {\n",
       "        vertical-align: top;\n",
       "    }\n",
       "\n",
       "    .dataframe thead th {\n",
       "        text-align: right;\n",
       "    }\n",
       "</style>\n",
       "<table border=\"1\" class=\"dataframe\">\n",
       "  <thead>\n",
       "    <tr style=\"text-align: right;\">\n",
       "      <th></th>\n",
       "      <th>0</th>\n",
       "      <th>1</th>\n",
       "      <th>2</th>\n",
       "      <th>3</th>\n",
       "    </tr>\n",
       "  </thead>\n",
       "  <tbody>\n",
       "    <tr>\n",
       "      <th>0</th>\n",
       "      <td>[]</td>\n",
       "      <td>[left]</td>\n",
       "      <td>[left]</td>\n",
       "      <td>[left]</td>\n",
       "    </tr>\n",
       "    <tr>\n",
       "      <th>1</th>\n",
       "      <td>[up]</td>\n",
       "      <td>[up]</td>\n",
       "      <td>[left]</td>\n",
       "      <td>[down]</td>\n",
       "    </tr>\n",
       "    <tr>\n",
       "      <th>2</th>\n",
       "      <td>[up]</td>\n",
       "      <td>[up]</td>\n",
       "      <td>[down]</td>\n",
       "      <td>[down]</td>\n",
       "    </tr>\n",
       "    <tr>\n",
       "      <th>3</th>\n",
       "      <td>[up]</td>\n",
       "      <td>[right]</td>\n",
       "      <td>[right]</td>\n",
       "      <td>[]</td>\n",
       "    </tr>\n",
       "  </tbody>\n",
       "</table>\n",
       "</div>"
      ],
      "text/plain": [
       "      0        1        2       3\n",
       "0    []   [left]   [left]  [left]\n",
       "1  [up]     [up]   [left]  [down]\n",
       "2  [up]     [up]   [down]  [down]\n",
       "3  [up]  [right]  [right]      []"
      ]
     },
     "execution_count": 156,
     "metadata": {},
     "output_type": "execute_result"
    }
   ],
   "source": [
    "pd.DataFrame(np.reshape(list(new_new_policy.values()), (int(np.sqrt(len(states))), -1))).replace(words_to_arrows)"
   ]
  },
  {
   "cell_type": "code",
   "execution_count": 169,
   "id": "d1be034b",
   "metadata": {},
   "outputs": [
    {
     "name": "stdout",
     "output_type": "stream",
     "text": [
      "0 1.3212890625\n",
      "20 0.6399909591413854\n",
      "40 0.3793993618226454\n",
      "60 0.26102921516646205\n",
      "80 0.19736530410717915\n",
      "1\n",
      "^^^^^^^^^^\n",
      "0 11.810326532230837\n",
      "20 0.6784503804466153\n",
      "40 0.34749897535070545\n",
      "60 0.2335648850717856\n",
      "80 0.17589454307875213\n",
      "2\n",
      "^^^^^^^^^^\n"
     ]
    }
   ],
   "source": [
    "final_policy = iterate_policy(init_policy_dict, naive_value_function)"
   ]
  },
  {
   "cell_type": "code",
   "execution_count": null,
   "id": "f05719c9",
   "metadata": {},
   "outputs": [],
   "source": []
  }
 ],
 "metadata": {
  "kernelspec": {
   "display_name": "pipenv_kern",
   "language": "python",
   "name": "pipenv_kern"
  },
  "language_info": {
   "codemirror_mode": {
    "name": "ipython",
    "version": 3
   },
   "file_extension": ".py",
   "mimetype": "text/x-python",
   "name": "python",
   "nbconvert_exporter": "python",
   "pygments_lexer": "ipython3",
   "version": "3.9.6"
  }
 },
 "nbformat": 4,
 "nbformat_minor": 5
}
