{
 "cells": [
  {
   "cell_type": "markdown",
   "id": "5d950cb5",
   "metadata": {},
   "source": [
    "There are 4 locations (labeled by different letters) and your job is to pick up the passenger at one location and drop him off in another. You receive +20 points for a successful dropoff, and lose 1 point for every timestep it takes. There is also a 10 point penalty for illegal pick-up and drop-off actions.\n",
    "\n",
    "NO EPISODES\n",
    "\n",
    "### State\n",
    "position on the map between 1 and 494\n",
    "\n",
    "### Actions\n",
    "0 - down\n",
    "1 - up\n",
    "2 - right\n",
    "3 - left\n",
    "4 - pickup\n",
    "5 - dropoff\n",
    "\n",
    "### Rewards\n",
    "-1 for movement\n",
    "-10 for pickup/dropoff\n",
    "+20 if \n"
   ]
  },
  {
   "cell_type": "markdown",
   "id": "2cf5887a",
   "metadata": {},
   "source": [
    "TODO\n",
    "Try Monte-Carlo Tree Search (used in alphaGo), apply to hard racetrack map"
   ]
  },
  {
   "cell_type": "code",
   "execution_count": 1,
   "id": "591d4297",
   "metadata": {},
   "outputs": [],
   "source": [
    "import gym\n",
    "import time\n",
    "import random\n",
    "import pandas as pd\n",
    "import numpy as np\n",
    "from IPython.display import clear_output\n",
    "import matplotlib.pyplot as plt"
   ]
  },
  {
   "cell_type": "code",
   "execution_count": 2,
   "id": "b600ebe0",
   "metadata": {},
   "outputs": [],
   "source": [
    "env = gym.make(\"Taxi-v3\").env"
   ]
  },
  {
   "cell_type": "code",
   "execution_count": 3,
   "id": "0fcee8e9",
   "metadata": {},
   "outputs": [
    {
     "data": {
      "text/plain": [
       "6"
      ]
     },
     "execution_count": 3,
     "metadata": {},
     "output_type": "execute_result"
    }
   ],
   "source": [
    "env.action_space.n"
   ]
  },
  {
   "cell_type": "code",
   "execution_count": 6,
   "id": "74f67a75",
   "metadata": {},
   "outputs": [],
   "source": [
    "def find_max_val_action_for_state(state_action_values, state):\n",
    "    res_d = {}\n",
    "    for k in state_action_values:\n",
    "        if k[0] == state:\n",
    "            res_d[k] = state_action_values[k]['value']\n",
    "    if res_d:\n",
    "        return max(res_d, key=res_d.get)[1]\n",
    "    else:\n",
    "        return env.action_space.sample()\n",
    "\n",
    "\n",
    "def choose_greedy_action(best_action, eps):\n",
    "    if np.random.uniform() < eps:\n",
    "        next_action = best_action\n",
    "    else:\n",
    "        next_action = env.action_space.sample()\n",
    "    \n",
    "    return next_action\n",
    "\n",
    "def update_state_action_values(state_action_values, \n",
    "                               cur_state, \n",
    "                               cur_action, \n",
    "                               reward, \n",
    "                               next_state, \n",
    "                               best_action):\n",
    "    \n",
    "    local_cp = state_action_values.copy()\n",
    "    \n",
    "    \n",
    "    if (cur_state, cur_action) in local_cp:\n",
    "        val = local_cp[(cur_state, cur_action)]['value']\n",
    "    else:\n",
    "        local_cp[(cur_state, cur_action)] = {}\n",
    "        val = 0\n",
    "        local_cp[(cur_state, cur_action)]['value'] = val\n",
    "\n",
    "    if (next_state, best_action) not in local_cp:\n",
    "        local_cp[(next_state, best_action)] = {}\n",
    "        local_cp[(next_state, best_action)]['value'] = 0\n",
    "\n",
    "    local_cp[(cur_state, cur_action)]['value'] = \\\n",
    "        val+alpha*(reward+lam*local_cp[(next_state, best_action)]['value'] - val)\n",
    "    \n",
    "    \n",
    "    return local_cp\n",
    "\n",
    "def optimise_world(world_map, state_action_values):\n",
    "    \n",
    "    local_state_action_values = state_action_values.copy()\n",
    "    local_world_map = world_map.copy()\n",
    "    \n",
    "    (cur_state, cur_action) = random.choice(list(local_world_map.keys()))\n",
    "    (next_state, reward) = local_world_map[(cur_state, cur_action)]\n",
    "    best_action = find_max_val_action_for_state(local_state_action_values, next_state)\n",
    "    \n",
    "    return update_state_action_values(local_state_action_values, \n",
    "                                      cur_state, \n",
    "                                      cur_action, \n",
    "                                      reward, \n",
    "                                      next_state, \n",
    "                                      best_action)\n",
    "\n",
    "def run_episode(env, cur_state, cur_action, policy, state_action_values, show=False):\n",
    "    done = False\n",
    "    trajectory = []\n",
    "    while not done:\n",
    "        next_state, reward, done, info = env.step(cur_action)\n",
    "        if next_state in policy:\n",
    "            next_action = policy[next_state]\n",
    "        else:\n",
    "            best_action = find_max_val_action_for_state(state_action_values, next_state)\n",
    "            next_action =  choose_greedy_action(best_action, eps)\n",
    "            \n",
    "#             next_action = select_greedy_action(next_state, state_action_values, eps)\n",
    "\n",
    "        # Now we have: (cur_state, cur_action, reward, new_state, next_action)\n",
    "        trajectory.append((cur_state, cur_action, reward, next_state, next_action))\n",
    "        print(len(trajectory))\n",
    "        cur_state = next_state; cur_action = next_action\n",
    "        if show:\n",
    "            env.render()\n",
    "            time.sleep(.2)\n",
    "            clear_output(wait=True)\n",
    "    \n",
    "    return trajectory\n",
    "\n",
    "def learn_episode(cur_state, \n",
    "                  cur_action, \n",
    "                  state_action_values, \n",
    "                  policy, \n",
    "                  world_map, \n",
    "                  show=False):\n",
    "\n",
    "    local_state_action_values = state_action_values.copy()\n",
    "    local_policy = policy.copy()\n",
    "    local_world_map = world_map.copy()\n",
    "    ep_sum_reward = 0\n",
    "    trajectory=[]\n",
    "    done = False\n",
    "    while not done:\n",
    "\n",
    "        next_state, reward, done, info = env.step(cur_action); ep_sum_reward+=reward\n",
    "        local_world_map[(cur_state, cur_action)] = (next_state, reward)\n",
    "\n",
    "        best_action = find_max_val_action_for_state(local_state_action_values, next_state)\n",
    "        next_action =  choose_greedy_action(best_action, eps)\n",
    "\n",
    "        local_policy[next_state] = best_action\n",
    "        trajectory.append((cur_state, cur_action, reward, next_state))\n",
    "\n",
    "        local_state_action_values = \\\n",
    "            update_state_action_values(local_state_action_values, cur_state, cur_action, reward, \n",
    "                                       next_state, best_action)\n",
    "\n",
    "#         for model_step in range(40): #2*len(local_world_map)\n",
    "#             local_state_action_values = optimise_world(local_world_map, local_state_action_values)\n",
    "\n",
    "        cur_state = next_state; cur_action = next_action\n",
    "\n",
    "\n",
    "        if show:\n",
    "            env.render()\n",
    "            clear_output(wait=True)\n",
    "            time.sleep(.3)\n",
    "\n",
    "\n",
    "    return (trajectory, local_state_action_values, local_policy, ep_sum_reward, local_world_map)\n",
    "\n"
   ]
  },
  {
   "cell_type": "code",
   "execution_count": 8,
   "id": "fa457418",
   "metadata": {},
   "outputs": [
    {
     "name": "stdout",
     "output_type": "stream",
     "text": [
      "0: -4640 2393\n",
      "##############################\n",
      "250: -4 16\n",
      "##############################\n",
      "500: 6 15\n",
      "##############################\n",
      "750: 3 18\n",
      "##############################\n",
      "1000: -6 18\n",
      "##############################\n",
      "1250: -4 16\n",
      "##############################\n",
      "1500: -18 21\n",
      "##############################\n",
      "1750: 10 11\n",
      "##############################\n",
      "2000: -9 21\n",
      "##############################\n",
      "2250: -10 22\n",
      "##############################\n",
      "2500: 7 14\n",
      "##############################\n",
      "2750: 7 14\n",
      "##############################\n",
      "3000: -5 17\n",
      "##############################\n",
      "3250: -25 19\n",
      "##############################\n",
      "3500: -18 21\n",
      "##############################\n",
      "3750: -18 21\n",
      "##############################\n",
      "4000: -19 22\n",
      "##############################\n",
      "4250: -4 16\n",
      "##############################\n",
      "4500: -10 22\n",
      "##############################\n",
      "4750: -2 14\n",
      "##############################\n"
     ]
    }
   ],
   "source": [
    "eps = 0.9\n",
    "alpha = 0.81\n",
    "lam = 0.96\n",
    "\n",
    "world_map = {}\n",
    "state_action_values = {}\n",
    "policy = {}\n",
    "\n",
    "env = gym.make(\"Taxi-v3\").env\n",
    "# cur_state = env.reset()\n",
    "# cur_action =  env.action_space.sample()  \n",
    "\n",
    "episodes = 5000\n",
    "ep_sums = []\n",
    "trajectories = []\n",
    "for ep_num in range(episodes):\n",
    "    cur_state = env.reset()\n",
    "    cur_action =  env.action_space.sample()  \n",
    "    (trajectory, state_action_values, policy, ep_sum_reward, world_map) = \\\n",
    "        learn_episode(cur_state, \n",
    "                      cur_action,\n",
    "                      state_action_values, \n",
    "                      policy,\n",
    "                      world_map,\n",
    "                      show=False)\n",
    "    trajectories.append(trajectory)\n",
    "    ep_sums.append(ep_sum_reward)\n",
    "    \n",
    "    if ep_num%250==0:\n",
    "        print(f'{ep_num}:', ep_sum_reward, len(trajectory))\n",
    "        print('#'*30)\n",
    "    "
   ]
  },
  {
   "cell_type": "code",
   "execution_count": 9,
   "id": "006bfa36",
   "metadata": {},
   "outputs": [
    {
     "data": {
      "text/plain": [
       "(0.0, 500.0)"
      ]
     },
     "execution_count": 9,
     "metadata": {},
     "output_type": "execute_result"
    },
    {
     "data": {
      "image/png": "[encoded data removed]",
      "text/plain": [
       "<Figure size 864x432 with 1 Axes>"
      ]
     },
     "metadata": {
      "needs_background": "light"
     },
     "output_type": "display_data"
    }
   ],
   "source": [
    "# PLOT TRAJECTORIES LENGTH\n",
    "\n",
    "\n",
    "lens = []\n",
    "for t in trajectories:#[:1500]:\n",
    "    lens.append(len(t))\n",
    "lens_df = pd.DataFrame(lens)\n",
    "lens_df['mean_len'] = lens_df[0].rolling(4).mean()\n",
    "\n",
    "plt.figure(figsize=(12,6))\n",
    "plt.plot(lens_df['mean_len'])\n",
    "plt.ylim(0,500)"
   ]
  },
  {
   "cell_type": "code",
   "execution_count": null,
   "id": "b6c770e4",
   "metadata": {
    "scrolled": true
   },
   "outputs": [
    {
     "name": "stdout",
     "output_type": "stream",
     "text": [
      "SUCCESSS!!! SUCCESSS!!! SUCCESSS!!! SUCCESSS!!! SUCCESSS!!! SUCCESSS!!! SUCCESSS!!! SUCCESSS!!! SUCCESSS!!! SUCCESSS!!! SUCCESSS!!! SUCCESSS!!! SUCCESSS!!! SUCCESSS!!! SUCCESSS!!! SUCCESSS!!! SUCCESSS!!! SUCCESSS!!! SUCCESSS!!! SUCCESSS!!! SUCCESSS!!! SUCCESSS!!! SUCCESSS!!! SUCCESSS!!! SUCCESSS!!! SUCCESSS!!! SUCCESSS!!! SUCCESSS!!! SUCCESSS!!! SUCCESSS!!! SUCCESSS!!! SUCCESSS!!! SUCCESSS!!! SUCCESSS!!! SUCCESSS!!! SUCCESSS!!! SUCCESSS!!! SUCCESSS!!! SUCCESSS!!! SUCCESSS!!! SUCCESSS!!! SUCCESSS!!! SUCCESSS!!! SUCCESSS!!! SUCCESSS!!! SUCCESSS!!! SUCCESSS!!! SUCCESSS!!! SUCCESSS!!! SUCCESSS!!! SUCCESSS!!! SUCCESSS!!! SUCCESSS!!! SUCCESSS!!! SUCCESSS!!! SUCCESSS!!! SUCCESSS!!! SUCCESSS!!! SUCCESSS!!! SUCCESSS!!! SUCCESSS!!! SUCCESSS!!! SUCCESSS!!! SUCCESSS!!! SUCCESSS!!! SUCCESSS!!! SUCCESSS!!! SUCCESSS!!! SUCCESSS!!! SUCCESSS!!! SUCCESSS!!! SUCCESSS!!! SUCCESSS!!! SUCCESSS!!! SUCCESSS!!! SUCCESSS!!! SUCCESSS!!! SUCCESSS!!! SUCCESSS!!! SUCCESSS!!! SUCCESSS!!! SUCCESSS!!! SUCCESSS!!! SUCCESSS!!! SUCCESSS!!! SUCCESSS!!! SUCCESSS!!! SUCCESSS!!! SUCCESSS!!! SUCCESSS!!! SUCCESSS!!! SUCCESSS!!! SUCCESSS!!! SUCCESSS!!! SUCCESSS!!! SUCCESSS!!! SUCCESSS!!! SUCCESSS!!! SUCCESSS!!! SUCCESSS!!! \n",
      "1\n",
      "+---------+\n",
      "|\u001b[34;1mR\u001b[0m: | : :G|\n",
      "| : |\u001b[43m \u001b[0m: : |\n",
      "| : : : : |\n",
      "| | : | : |\n",
      "|Y| : |\u001b[35mB\u001b[0m: |\n",
      "+---------+\n",
      "  (North)\n"
     ]
    }
   ],
   "source": [
    "# POLICY DEMO\n",
    "num_eps = 500\n",
    "env = gym.make(\"Taxi-v3\").env\n",
    "cur_state = env.reset()\n",
    "cur_action = env.action_space.sample()\n",
    "\n",
    "for eps in range(num_eps):\n",
    "    new_episode = run_episode(env, cur_state, cur_action, policy, state_action_values, show=True)\n",
    "    print('SUCCESSS!!! '*100)\n",
    "    start_state = env.reset()"
   ]
  },
  {
   "cell_type": "code",
   "execution_count": 65,
   "id": "6f07668b",
   "metadata": {},
   "outputs": [
    {
     "data": {
      "text/plain": [
       "False"
      ]
     },
     "execution_count": 65,
     "metadata": {},
     "output_type": "execute_result"
    }
   ],
   "source": []
  },
  {
   "attachments": {},
   "cell_type": "markdown",
   "id": "a65f899d",
   "metadata": {},
   "source": []
  },
  {
   "cell_type": "code",
   "execution_count": null,
   "id": "3ffb1be2",
   "metadata": {},
   "outputs": [],
   "source": []
  }
 ],
 "metadata": {
  "kernelspec": {
   "display_name": "pipenv_kern",
   "language": "python",
   "name": "pipenv_kern"
  },
  "language_info": {
   "codemirror_mode": {
    "name": "ipython",
    "version": 3
   },
   "file_extension": ".py",
   "mimetype": "text/x-python",
   "name": "python",
   "nbconvert_exporter": "python",
   "pygments_lexer": "ipython3",
   "version": "3.9.6"
  }
 },
 "nbformat": 4,
 "nbformat_minor": 5
}
