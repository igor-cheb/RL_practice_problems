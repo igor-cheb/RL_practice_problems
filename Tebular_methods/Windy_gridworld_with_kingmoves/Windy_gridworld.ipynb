{
 "cells": [
  {
   "cell_type": "markdown",
   "id": "a5857c64",
   "metadata": {},
   "source": [
    "Actions\n",
    "--\n",
    "UP = 0\n",
    "RIGHT = 1\n",
    "DOWN = 2\n",
    "LEFT = 3\n",
    "\n",
    "State\n",
    "--\n",
    "Int from 0 to 69\n",
    "\n",
    "Rewards\n",
    "--\n",
    "-1 for each move"
   ]
  },
  {
   "cell_type": "code",
   "execution_count": 1,
   "id": "0a51b9e4",
   "metadata": {},
   "outputs": [],
   "source": [
    "from lib.envs.windy_gridworld import WindyGridworldEnv\n",
    "from IPython.display import clear_output\n",
    "import time\n",
    "import random\n",
    "import numpy as np\n",
    "import pandas as pd\n",
    "import matplotlib.pyplot as plt"
   ]
  },
  {
   "cell_type": "code",
   "execution_count": 2,
   "id": "ff1862c8",
   "metadata": {},
   "outputs": [],
   "source": [
    "env = WindyGridworldEnv()"
   ]
  },
  {
   "cell_type": "code",
   "execution_count": 3,
   "id": "d1980544",
   "metadata": {},
   "outputs": [
    {
     "name": "stdout",
     "output_type": "stream",
     "text": [
      "o  o  o  o  o  o  o  o  o  o\n",
      "o \u001b[91m\u001b[1m x \u001b[0m o  o  o  o  o  o  o  o\n",
      "o  o  o  o  o  o  o  o  o  o\n",
      "o  o  o  o  o  o  o \u001b[1m T \u001b[0m o  o\n",
      "o  o  o  o  o  o  o  o  o  o\n",
      "o  o  o  o  o  o  o  o  o  o\n",
      "o  o  o  o  o  o  o  o  o  o\n",
      "\n",
      "(21, -1.0, False, {'prob': 1.0})\n"
     ]
    },
    {
     "ename": "KeyboardInterrupt",
     "evalue": "",
     "output_type": "error",
     "traceback": [
      "\u001b[0;31m---------------------------------------------------------------------------\u001b[0m",
      "\u001b[0;31mKeyboardInterrupt\u001b[0m                         Traceback (most recent call last)",
      "\u001b[0;32m/var/folders/p3/4j53xc_50yv4yqz952bnybrm0000gn/T/ipykernel_39353/2087936321.py\u001b[0m in \u001b[0;36m<module>\u001b[0;34m\u001b[0m\n\u001b[1;32m      6\u001b[0m     \u001b[0menv\u001b[0m\u001b[0;34m.\u001b[0m\u001b[0mrender\u001b[0m\u001b[0;34m(\u001b[0m\u001b[0;34m)\u001b[0m\u001b[0;34m\u001b[0m\u001b[0;34m\u001b[0m\u001b[0m\n\u001b[1;32m      7\u001b[0m     \u001b[0mprint\u001b[0m\u001b[0;34m(\u001b[0m\u001b[0menv\u001b[0m\u001b[0;34m.\u001b[0m\u001b[0mstep\u001b[0m\u001b[0;34m(\u001b[0m\u001b[0mrandom\u001b[0m\u001b[0;34m.\u001b[0m\u001b[0mchoice\u001b[0m\u001b[0;34m(\u001b[0m\u001b[0mrange\u001b[0m\u001b[0;34m(\u001b[0m\u001b[0;36m4\u001b[0m\u001b[0;34m)\u001b[0m\u001b[0;34m)\u001b[0m\u001b[0;34m)\u001b[0m\u001b[0;34m)\u001b[0m \u001b[0;31m#\u001b[0m\u001b[0;34m\u001b[0m\u001b[0;34m\u001b[0m\u001b[0m\n\u001b[0;32m----> 8\u001b[0;31m     \u001b[0mtime\u001b[0m\u001b[0;34m.\u001b[0m\u001b[0msleep\u001b[0m\u001b[0;34m(\u001b[0m\u001b[0;36m.4\u001b[0m\u001b[0;34m)\u001b[0m\u001b[0;34m\u001b[0m\u001b[0;34m\u001b[0m\u001b[0m\n\u001b[0m",
      "\u001b[0;31mKeyboardInterrupt\u001b[0m: "
     ]
    }
   ],
   "source": [
    "# ENV Test code\n",
    "\n",
    "env.reset()\n",
    "for _ in range(100):\n",
    "    clear_output(wait=True)\n",
    "    env.render()\n",
    "    print(env.step(random.choice(range(4)))) #\n",
    "    time.sleep(.4)"
   ]
  },
  {
   "cell_type": "markdown",
   "id": "03bd2b4e",
   "metadata": {},
   "source": [
    "# ON-POLICY TD(0)"
   ]
  },
  {
   "cell_type": "code",
   "execution_count": 13,
   "id": "26bb22fa",
   "metadata": {},
   "outputs": [],
   "source": [
    "def find_actions_for_state(state_action_values, state):\n",
    "    res_d = {}\n",
    "    visits = 0\n",
    "    for k in state_action_values:\n",
    "        if k[0] == state:\n",
    "            res_d[k] = state_action_values[k]['value']\n",
    "    return res_d\n",
    "\n",
    "def find_max_val_action_for_state(state_action_values, state):\n",
    "    res_d = find_actions_for_state(state_action_values, state)\n",
    "    if res_d:\n",
    "        return max(res_d, key=res_d.get)[1]\n",
    "    else:\n",
    "        return None\n",
    "\n",
    "def run_episode(env, cur_state, cur_action, policy, state_actions_values, show=False):\n",
    "    terminal = False\n",
    "    trajectory = []\n",
    "    while not terminal:\n",
    "        new_state, reward, terminal, _ = env.step(cur_action)\n",
    "        next_action = policy[new_state]\n",
    "\n",
    "        # Now we have: (cur_state, cur_action, reward, new_state, next_action)\n",
    "        trajectory.append((cur_state, cur_action, reward, new_state, next_action))\n",
    "        print(len(trajectory))\n",
    "        cur_state = new_state; cur_action = next_action\n",
    "        if show:\n",
    "            env.render()\n",
    "            time.sleep(.3)\n",
    "            clear_output(wait=True)\n",
    "    \n",
    "    return trajectory\n",
    "\n",
    "\n",
    "    \n",
    "def learn_episode(env, cur_state, cur_action, state_actions_values, policy, show=False):\n",
    "    \n",
    "    terminal = False\n",
    "    trajectory = []\n",
    "    while not terminal:\n",
    "        \n",
    "        new_state, reward, terminal, _ = env.step(cur_action)\n",
    "        \n",
    "        ###################################\n",
    "        \n",
    "        if np.random.uniform() < eps:\n",
    "            next_action = find_max_val_action_for_state(state_actions_values, new_state)\n",
    "            if not next_action: next_action = random.choice(range(4)) \n",
    "        else:\n",
    "            next_action = random.choice(range(4))\n",
    "        policy[new_state] = next_action\n",
    "        ###################################\n",
    "\n",
    "        # Now we have: (cur_state, cur_action, reward, new_state, next_action)\n",
    "        trajectory.append((cur_state, cur_action, reward, new_state, next_action))\n",
    "\n",
    "\n",
    "        if (cur_state, cur_action) in state_actions_values:\n",
    "            val = state_actions_values[(cur_state, cur_action)]['value']\n",
    "        else:\n",
    "            state_actions_values[(cur_state, cur_action)] = {}\n",
    "            val = 0\n",
    "\n",
    "        if (new_state, next_action) not in state_actions_values:\n",
    "            state_actions_values[(new_state, next_action)] = {}\n",
    "            state_actions_values[(new_state, next_action)]['value'] = 0\n",
    "\n",
    "        state_actions_values[(cur_state, cur_action)]['value'] = \\\n",
    "            val+alpha*(reward+lam*state_actions_values[(new_state, next_action)]['value'] - val)\n",
    "\n",
    "        cur_state = new_state; cur_action = next_action\n",
    "        if show:\n",
    "            env.render()\n",
    "            time.sleep(.99)\n",
    "            clear_output(wait=True)\n",
    "    \n",
    "    return (trajectory, state_actions_values, policy)"
   ]
  },
  {
   "cell_type": "code",
   "execution_count": 9,
   "id": "ed6d3f81",
   "metadata": {},
   "outputs": [],
   "source": [
    "state_actions_values = {}\n",
    "policy = {}"
   ]
  },
  {
   "cell_type": "code",
   "execution_count": 10,
   "id": "0186a9aa",
   "metadata": {},
   "outputs": [
    {
     "name": "stdout",
     "output_type": "stream",
     "text": [
      "0\n"
     ]
    }
   ],
   "source": [
    "eps = 0.9\n",
    "alpha = 0.5\n",
    "lam = 0.9\n",
    "batch_size = 500\n",
    "\n",
    "env = WindyGridworldEnv()\n",
    "\n",
    "\n",
    "trajectories = []\n",
    "for _ in range(batch_size):\n",
    "    \n",
    "    cur_state = env.reset()\n",
    "    cur_action = random.choice(range(4))\n",
    "    \n",
    "    (trajectory, state_actions_values, policy) = \\\n",
    "        learn_episode(env, cur_state, cur_action, state_actions_values, policy, show=False)\n",
    "    trajectories.append(trajectory)\n",
    "    \n",
    "    if _%500==0:\n",
    "        print(_)"
   ]
  },
  {
   "cell_type": "code",
   "execution_count": 68,
   "id": "8232faf4",
   "metadata": {
    "scrolled": true
   },
   "outputs": [
    {
     "data": {
      "text/plain": [
       "11716"
      ]
     },
     "execution_count": 68,
     "metadata": {},
     "output_type": "execute_result"
    }
   ],
   "source": [
    "sm = 0\n",
    "for t in trajectories:\n",
    "    sm+=len(t)\n",
    "sm"
   ]
  },
  {
   "cell_type": "code",
   "execution_count": 11,
   "id": "52b8a913",
   "metadata": {},
   "outputs": [
    {
     "data": {
      "text/plain": [
       "(0.0, 150.0)"
      ]
     },
     "execution_count": 11,
     "metadata": {},
     "output_type": "execute_result"
    },
    {
     "data": {
      "image/png": "[encoded data removed]",
      "text/plain": [
       "<Figure size 864x432 with 1 Axes>"
      ]
     },
     "metadata": {
      "needs_background": "light"
     },
     "output_type": "display_data"
    }
   ],
   "source": [
    "# PLOT TRAJECTORIES LENGTH\n",
    "lens = []\n",
    "for t in trajectories:#[:1500]:\n",
    "    lens.append(len(t))\n",
    "lens_df = pd.DataFrame(lens)\n",
    "lens_df['mean_len'] = lens_df[0].rolling(50).mean()\n",
    "\n",
    "plt.figure(figsize=(12,6))\n",
    "plt.plot(lens_df['mean_len'])\n",
    "plt.ylim(0,150)"
   ]
  },
  {
   "cell_type": "code",
   "execution_count": null,
   "id": "04b6bbc3",
   "metadata": {
    "scrolled": true
   },
   "outputs": [
    {
     "name": "stdout",
     "output_type": "stream",
     "text": [
      "8\n",
      "o  o  o  o  o  o  o  o \u001b[91m\u001b[1m x \u001b[0m o\n",
      "o  o  o  o  o  o  o  o  o  o\n",
      "o  o  o  o  o  o  o  o  o  o\n",
      "o  o  o  o  o  o  o \u001b[1m T \u001b[0m o  o\n",
      "o  o  o  o  o  o  o  o  o  o\n",
      "o  o  o  o  o  o  o  o  o  o\n",
      "o  o  o  o  o  o  o  o  o  o\n",
      "\n"
     ]
    }
   ],
   "source": [
    "# POLICY DEMO\n",
    "env = WindyGridworldEnv()\n",
    "\n",
    "cur_state = env.reset()\n",
    "cur_action = 1\n",
    "\n",
    "\n",
    "for episode in range(300):\n",
    "    \n",
    "    new_episode = run_episode(env, cur_state, cur_action, policy, state_actions_values, show=True)\n",
    "    print('SUCCESSS!!! '*100)\n",
    "    cur_state = env.reset()\n",
    "    cur_action = 1\n",
    "    "
   ]
  },
  {
   "cell_type": "markdown",
   "id": "3ca310cd",
   "metadata": {},
   "source": [
    "# OFF-POLICY TD(0)"
   ]
  },
  {
   "cell_type": "code",
   "execution_count": 70,
   "id": "624bb55d",
   "metadata": {},
   "outputs": [],
   "source": [
    "def find_actions_for_state(state_action_values, state):\n",
    "    res_d = {}\n",
    "    visits = 0\n",
    "    for k in state_action_values:\n",
    "        if k[0] == state:\n",
    "            res_d[k] = state_action_values[k]['value']\n",
    "    return res_d\n",
    "\n",
    "def find_max_val_action_for_state(state_action_values, state):\n",
    "    res_d = find_actions_for_state(state_action_values, state)\n",
    "    if res_d:\n",
    "        return max(res_d, key=res_d.get)[1]\n",
    "    else:\n",
    "        return None\n",
    "\n",
    "def run_episode(env, cur_state, cur_action, policy, state_actions_values, show=False):\n",
    "    terminal = False\n",
    "    trajectory = []\n",
    "    while not terminal:\n",
    "        new_state, reward, terminal, _ = env.step(cur_action)\n",
    "        next_action = policy[new_state]\n",
    "\n",
    "        # Now we have: (cur_state, cur_action, reward, new_state, next_action)\n",
    "        trajectory.append((cur_state, cur_action, reward, new_state, next_action))\n",
    "        print(len(trajectory))\n",
    "        cur_state = new_state; cur_action = next_action\n",
    "        if show:\n",
    "            env.render()\n",
    "            time.sleep(1)\n",
    "            clear_output(wait=True)\n",
    "    \n",
    "    return trajectory\n",
    "\n",
    "\n",
    "    \n",
    "def learn_episode(env, cur_state, cur_action, state_actions_values, policy, show=False):\n",
    "    \n",
    "    terminal = False\n",
    "    trajectory = []\n",
    "    while not terminal:\n",
    "        \n",
    "        new_state, reward, terminal, _ = env.step(cur_action)\n",
    "        \n",
    "        ###################################\n",
    "        best_action = find_max_val_action_for_state(state_actions_values, new_state)\n",
    "        if not best_action: best_action = random.choice(range(4))  \n",
    "        \n",
    "        if np.random.uniform() < eps:\n",
    "            next_action = best_action\n",
    "#             if not next_action: next_action = random.choice(range(4)) \n",
    "        else:\n",
    "            next_action = random.choice(range(4))\n",
    "        policy[new_state] = next_action\n",
    "        ###################################\n",
    "\n",
    "        # Now we have: (cur_state, cur_action, reward, new_state, next_action)\n",
    "        trajectory.append((cur_state, cur_action, reward, new_state, next_action))\n",
    "\n",
    "\n",
    "        if (cur_state, cur_action) in state_actions_values:\n",
    "            val = state_actions_values[(cur_state, cur_action)]['value']\n",
    "        else:\n",
    "            state_actions_values[(cur_state, cur_action)] = {}\n",
    "            val = 0\n",
    "            state_actions_values[(cur_state, cur_action)]['value'] = val\n",
    "\n",
    "        if (new_state, best_action) not in state_actions_values:\n",
    "            state_actions_values[(new_state, best_action)] = {}\n",
    "            state_actions_values[(new_state, best_action)]['value'] = 0\n",
    "\n",
    "        state_actions_values[(cur_state, cur_action)]['value'] = \\\n",
    "            val+alpha*(reward+lam*state_actions_values[(new_state, best_action)]['value'] - val)\n",
    "\n",
    "        cur_state = new_state; cur_action = next_action\n",
    "        if show:\n",
    "            env.render()\n",
    "            time.sleep(.99)\n",
    "            clear_output(wait=True)\n",
    "    \n",
    "    return (trajectory, state_actions_values, policy)"
   ]
  },
  {
   "cell_type": "code",
   "execution_count": 90,
   "id": "5d984d2c",
   "metadata": {},
   "outputs": [],
   "source": [
    "state_actions_values = {}\n",
    "policy = {}"
   ]
  },
  {
   "cell_type": "code",
   "execution_count": 91,
   "id": "3adbf4b3",
   "metadata": {
    "scrolled": true
   },
   "outputs": [
    {
     "name": "stdout",
     "output_type": "stream",
     "text": [
      "0\n"
     ]
    }
   ],
   "source": [
    "eps = 0.97\n",
    "alpha = 0.5\n",
    "lam = 0.98\n",
    "batch_size = 200\n",
    "\n",
    "env = WindyGridworldEnv()\n",
    "\n",
    "\n",
    "trajectories = []\n",
    "for _ in range(batch_size):\n",
    "    \n",
    "    cur_state = env.reset()\n",
    "    cur_action = random.choice(range(4))\n",
    "    \n",
    "    (trajectory, state_actions_values, policy) = \\\n",
    "        learn_episode(env, cur_state, cur_action, state_actions_values, policy, show=False)\n",
    "    trajectories.append(trajectory)\n",
    "    \n",
    "    if _%500==0:\n",
    "        print(_)"
   ]
  },
  {
   "cell_type": "code",
   "execution_count": 92,
   "id": "2f30857d",
   "metadata": {},
   "outputs": [
    {
     "data": {
      "text/plain": [
       "(0.0, 150.0)"
      ]
     },
     "execution_count": 92,
     "metadata": {},
     "output_type": "execute_result"
    },
    {
     "data": {
      "image/png": "[encoded data removed]",
      "text/plain": [
       "<Figure size 864x432 with 1 Axes>"
      ]
     },
     "metadata": {
      "needs_background": "light"
     },
     "output_type": "display_data"
    }
   ],
   "source": [
    "# PLOT TRAJECTORIES LENGTH\n",
    "lens = []\n",
    "for t in trajectories:#[:1500]:\n",
    "    lens.append(len(t))\n",
    "lens_df = pd.DataFrame(lens)\n",
    "lens_df['mean_len'] = lens_df[0].rolling(50).mean()\n",
    "\n",
    "plt.figure(figsize=(12,6))\n",
    "plt.plot(lens_df['mean_len'])\n",
    "plt.ylim(0,150)"
   ]
  },
  {
   "cell_type": "code",
   "execution_count": 93,
   "id": "9fff739d",
   "metadata": {},
   "outputs": [
    {
     "name": "stdout",
     "output_type": "stream",
     "text": [
      "SUCCESSS!!! SUCCESSS!!! SUCCESSS!!! SUCCESSS!!! SUCCESSS!!! SUCCESSS!!! SUCCESSS!!! SUCCESSS!!! SUCCESSS!!! SUCCESSS!!! SUCCESSS!!! SUCCESSS!!! SUCCESSS!!! SUCCESSS!!! SUCCESSS!!! SUCCESSS!!! SUCCESSS!!! SUCCESSS!!! SUCCESSS!!! SUCCESSS!!! SUCCESSS!!! SUCCESSS!!! SUCCESSS!!! SUCCESSS!!! SUCCESSS!!! SUCCESSS!!! SUCCESSS!!! SUCCESSS!!! SUCCESSS!!! SUCCESSS!!! SUCCESSS!!! SUCCESSS!!! SUCCESSS!!! SUCCESSS!!! SUCCESSS!!! SUCCESSS!!! SUCCESSS!!! SUCCESSS!!! SUCCESSS!!! SUCCESSS!!! SUCCESSS!!! SUCCESSS!!! SUCCESSS!!! SUCCESSS!!! SUCCESSS!!! SUCCESSS!!! SUCCESSS!!! SUCCESSS!!! SUCCESSS!!! SUCCESSS!!! SUCCESSS!!! SUCCESSS!!! SUCCESSS!!! SUCCESSS!!! SUCCESSS!!! SUCCESSS!!! SUCCESSS!!! SUCCESSS!!! SUCCESSS!!! SUCCESSS!!! SUCCESSS!!! SUCCESSS!!! SUCCESSS!!! SUCCESSS!!! SUCCESSS!!! SUCCESSS!!! SUCCESSS!!! SUCCESSS!!! SUCCESSS!!! SUCCESSS!!! SUCCESSS!!! SUCCESSS!!! SUCCESSS!!! SUCCESSS!!! SUCCESSS!!! SUCCESSS!!! SUCCESSS!!! SUCCESSS!!! SUCCESSS!!! SUCCESSS!!! SUCCESSS!!! SUCCESSS!!! SUCCESSS!!! SUCCESSS!!! SUCCESSS!!! SUCCESSS!!! SUCCESSS!!! SUCCESSS!!! SUCCESSS!!! SUCCESSS!!! SUCCESSS!!! SUCCESSS!!! SUCCESSS!!! SUCCESSS!!! SUCCESSS!!! SUCCESSS!!! SUCCESSS!!! SUCCESSS!!! SUCCESSS!!! SUCCESSS!!! \n"
     ]
    }
   ],
   "source": [
    "# POLICY DEMO\n",
    "env = WindyGridworldEnv()\n",
    "\n",
    "cur_state = env.reset()\n",
    "cur_action = 1\n",
    "\n",
    "\n",
    "for episode in range(1):\n",
    "    \n",
    "    new_episode = run_episode(env, cur_state, cur_action, policy, state_actions_values, show=True)\n",
    "    print('SUCCESSS!!! '*100)\n",
    "    cur_state = env.reset()\n",
    "    cur_action = 1\n",
    "    "
   ]
  },
  {
   "cell_type": "markdown",
   "id": "8a77ef60",
   "metadata": {},
   "source": [
    "# TEST"
   ]
  },
  {
   "cell_type": "code",
   "execution_count": 81,
   "id": "a667cfd8",
   "metadata": {},
   "outputs": [],
   "source": [
    "def find_max_val_action_for_state(state_action_values, state):\n",
    "    res_d = {}\n",
    "    for k in state_action_values:\n",
    "        if k[0] == state:\n",
    "            res_d[k] = state_action_values[k]['value']\n",
    "    if res_d:\n",
    "        return max(res_d, key=res_d.get)[1]\n",
    "    else:\n",
    "        return env.action_space.sample()\n",
    "\n",
    "\n",
    "def select_greedy_action(state, state_action_values, eps):\n",
    "    if np.random.uniform() < eps:\n",
    "        next_action = find_max_val_action_for_state(state_action_values, state)\n",
    "    else:\n",
    "        next_action = env.action_space.sample()\n",
    "    \n",
    "    return next_action\n",
    "\n",
    "def update_state_action_values(state_action_values, \n",
    "                               cur_state, \n",
    "                               cur_action, \n",
    "                               reward, \n",
    "                               next_state, \n",
    "                               best_action):\n",
    "    local_cp = state_action_values.copy()\n",
    "    \n",
    "    \n",
    "    if (cur_state, cur_action) in local_cp:\n",
    "        val = local_cp[(cur_state, cur_action)]['value']\n",
    "    else:\n",
    "        local_cp[(cur_state, cur_action)] = {}\n",
    "        val = 0\n",
    "        local_cp[(cur_state, cur_action)]['value'] = val\n",
    "\n",
    "    if (next_state, best_action) not in local_cp:\n",
    "        local_cp[(next_state, best_action)] = {}\n",
    "        local_cp[(next_state, best_action)]['value'] = 0\n",
    "\n",
    "    local_cp[(cur_state, cur_action)]['value'] = \\\n",
    "        val+alpha*(reward+lam*local_cp[(next_state, best_action)]['value'] - val)\n",
    "    \n",
    "    \n",
    "    return local_cp\n",
    "\n",
    "def run_episode(env, cur_state, cur_action, policy, state_action_values, show=False):\n",
    "    done = False\n",
    "    trajectory = []\n",
    "    while not done:\n",
    "        next_state, reward, done, info = env.step(cur_action)\n",
    "        if next_state in policy:\n",
    "            print(f'{next_state} IN POLICY '*10)\n",
    "            next_action = policy[next_state]\n",
    "        else:\n",
    "            print(f'{next_state} NOT IN POLICY '*10)\n",
    "            next_action = select_greedy_action(next_state, state_action_values, eps)\n",
    "\n",
    "        # Now we have: (cur_state, cur_action, reward, new_state, next_action)\n",
    "        trajectory.append((cur_state, cur_action, reward, next_state, next_action))\n",
    "        print(len(trajectory))\n",
    "        cur_state = next_state; cur_action = next_action\n",
    "        if show:\n",
    "            env.render()\n",
    "            time.sleep(.5)\n",
    "            clear_output(wait=True)\n",
    "    \n",
    "    return trajectory\n",
    "\n",
    "def learn_episode(cur_state, cur_action, state_action_values, policy, show=False):\n",
    "    \n",
    "    local_state_action_values = state_action_values.copy()\n",
    "    local_policy = policy.copy()\n",
    "    \n",
    "    ep_sum_reward = 0\n",
    "    trajectory=[]\n",
    "    done = False\n",
    "    while not done:\n",
    "\n",
    "        next_state, reward, done, info = env.step(cur_action); ep_sum_reward+=reward\n",
    "        \n",
    "#         world_map[(cur_state, cur_action)] = (next_state, reward)\n",
    "        \n",
    "        next_action =  select_greedy_action(next_state, local_state_action_values, eps)\n",
    "\n",
    "        \n",
    "        best_action = find_max_val_action_for_state(local_state_action_values, next_state)\n",
    "#         if np.random.uniform() < eps:\n",
    "#             next_action = best_action\n",
    "#         else:\n",
    "#             next_action = env.action_space.sample()\n",
    "    \n",
    "        local_policy[next_state] = best_action\n",
    "        trajectory.append((cur_state, cur_action, reward, next_state))\n",
    "        \n",
    "        local_state_action_values = \\\n",
    "            update_state_action_values(local_state_action_values, cur_state, cur_action, reward, \n",
    "                                       next_state, best_action)\n",
    "        cur_state = next_state; cur_action = next_action\n",
    "        \n",
    "\n",
    "\n",
    "        if show:\n",
    "            env.render()\n",
    "            clear_output(wait=True)\n",
    "            time.sleep(.3)\n",
    "    \n",
    "    return (trajectory, local_state_action_values, local_policy, ep_sum_reward)"
   ]
  },
  {
   "cell_type": "code",
   "execution_count": 83,
   "id": "17019cbb",
   "metadata": {
    "scrolled": true
   },
   "outputs": [
    {
     "name": "stdout",
     "output_type": "stream",
     "text": [
      "0: -5218.0 5218\n",
      "##############################\n",
      "10: -12.0 12\n",
      "##############################\n",
      "20: -12.0 12\n",
      "##############################\n",
      "30: -12.0 12\n",
      "##############################\n",
      "40: -12.0 12\n",
      "##############################\n",
      "50: -12.0 12\n",
      "##############################\n",
      "60: -12.0 12\n",
      "##############################\n",
      "70: -12.0 12\n",
      "##############################\n",
      "80: -9.0 9\n",
      "##############################\n",
      "90: -9.0 9\n",
      "##############################\n",
      "100: -9.0 9\n",
      "##############################\n",
      "110: -9.0 9\n",
      "##############################\n",
      "120: -10.0 10\n",
      "##############################\n",
      "130: -9.0 9\n",
      "##############################\n",
      "140: -9.0 9\n",
      "##############################\n",
      "150: -10.0 10\n",
      "##############################\n",
      "160: -9.0 9\n",
      "##############################\n",
      "170: -9.0 9\n",
      "##############################\n",
      "180: -9.0 9\n",
      "##############################\n",
      "190: -9.0 9\n",
      "##############################\n"
     ]
    }
   ],
   "source": [
    "eps = 0.97\n",
    "alpha = 0.5\n",
    "lam = 0.98\n",
    "\n",
    "world_map = {}\n",
    "state_action_values = {}\n",
    "policy = {}\n",
    "\n",
    "env = WindyGridworldEnv()\n",
    "cur_state = env.reset()\n",
    "cur_action =  env.action_space.sample()  \n",
    "\n",
    "episodes = 200\n",
    "ep_sums = []\n",
    "trajectories = []\n",
    "for ep_num in range(episodes):\n",
    "    \n",
    "    (trajectory, state_action_values, policy, ep_sum_reward) = \\\n",
    "        learn_episode(cur_state, \n",
    "                      cur_action,\n",
    "                      state_action_values, \n",
    "                      policy, \n",
    "                      show=False)\n",
    "    \n",
    "    trajectories.append(trajectory)\n",
    "    ep_sums.append(ep_sum_reward)\n",
    "    if ep_num%10==0:\n",
    "        print(f'{ep_num}:', ep_sum_reward, len(trajectory))\n",
    "        print('#'*30)"
   ]
  },
  {
   "cell_type": "code",
   "execution_count": 86,
   "id": "07237af5",
   "metadata": {},
   "outputs": [
    {
     "name": "stdout",
     "output_type": "stream",
     "text": [
      "7 IN POLICY 7 IN POLICY 7 IN POLICY 7 IN POLICY 7 IN POLICY 7 IN POLICY 7 IN POLICY 7 IN POLICY 7 IN POLICY 7 IN POLICY \n",
      "9\n",
      "o  o  o  o  o  o  o \u001b[91m\u001b[1m x \u001b[0m o  o\n",
      "o  o  o  o  o  o  o  o  o  o\n",
      "o  o  o  o  o  o  o  o  o  o\n",
      "o  o  o  o  o  o  o \u001b[1m T \u001b[0m o  o\n",
      "o  o  o  o  o  o  o  o  o  o\n",
      "o  o  o  o  o  o  o  o  o  o\n",
      "o  o  o  o  o  o  o  o  o  o\n",
      "\n"
     ]
    },
    {
     "ename": "KeyboardInterrupt",
     "evalue": "",
     "output_type": "error",
     "traceback": [
      "\u001b[0;31m---------------------------------------------------------------------------\u001b[0m",
      "\u001b[0;31mKeyboardInterrupt\u001b[0m                         Traceback (most recent call last)",
      "\u001b[0;32m/var/folders/p3/4j53xc_50yv4yqz952bnybrm0000gn/T/ipykernel_15748/3111228981.py\u001b[0m in \u001b[0;36m<module>\u001b[0;34m\u001b[0m\n\u001b[1;32m      6\u001b[0m \u001b[0;34m\u001b[0m\u001b[0m\n\u001b[1;32m      7\u001b[0m \u001b[0;32mfor\u001b[0m \u001b[0meps\u001b[0m \u001b[0;32min\u001b[0m \u001b[0mrange\u001b[0m\u001b[0;34m(\u001b[0m\u001b[0mnum_eps\u001b[0m\u001b[0;34m)\u001b[0m\u001b[0;34m:\u001b[0m\u001b[0;34m\u001b[0m\u001b[0;34m\u001b[0m\u001b[0m\n\u001b[0;32m----> 8\u001b[0;31m     \u001b[0mnew_episode\u001b[0m \u001b[0;34m=\u001b[0m \u001b[0mrun_episode\u001b[0m\u001b[0;34m(\u001b[0m\u001b[0menv\u001b[0m\u001b[0;34m,\u001b[0m \u001b[0mcur_state\u001b[0m\u001b[0;34m,\u001b[0m \u001b[0mcur_action\u001b[0m\u001b[0;34m,\u001b[0m \u001b[0mpolicy\u001b[0m\u001b[0;34m,\u001b[0m \u001b[0mstate_action_values\u001b[0m\u001b[0;34m,\u001b[0m \u001b[0mshow\u001b[0m\u001b[0;34m=\u001b[0m\u001b[0;32mTrue\u001b[0m\u001b[0;34m)\u001b[0m\u001b[0;34m\u001b[0m\u001b[0;34m\u001b[0m\u001b[0m\n\u001b[0m\u001b[1;32m      9\u001b[0m     \u001b[0mprint\u001b[0m\u001b[0;34m(\u001b[0m\u001b[0;34m'SUCCESSS!!! '\u001b[0m\u001b[0;34m*\u001b[0m\u001b[0;36m100\u001b[0m\u001b[0;34m)\u001b[0m\u001b[0;34m\u001b[0m\u001b[0;34m\u001b[0m\u001b[0m\n\u001b[1;32m     10\u001b[0m     \u001b[0mstart_state\u001b[0m \u001b[0;34m=\u001b[0m \u001b[0menv\u001b[0m\u001b[0;34m.\u001b[0m\u001b[0mreset\u001b[0m\u001b[0;34m(\u001b[0m\u001b[0;34m)\u001b[0m\u001b[0;34m\u001b[0m\u001b[0;34m\u001b[0m\u001b[0m\n",
      "\u001b[0;32m/var/folders/p3/4j53xc_50yv4yqz952bnybrm0000gn/T/ipykernel_15748/1951551369.py\u001b[0m in \u001b[0;36mrun_episode\u001b[0;34m(env, cur_state, cur_action, policy, state_action_values, show)\u001b[0m\n\u001b[1;32m     62\u001b[0m         \u001b[0;32mif\u001b[0m \u001b[0mshow\u001b[0m\u001b[0;34m:\u001b[0m\u001b[0;34m\u001b[0m\u001b[0;34m\u001b[0m\u001b[0m\n\u001b[1;32m     63\u001b[0m             \u001b[0menv\u001b[0m\u001b[0;34m.\u001b[0m\u001b[0mrender\u001b[0m\u001b[0;34m(\u001b[0m\u001b[0;34m)\u001b[0m\u001b[0;34m\u001b[0m\u001b[0;34m\u001b[0m\u001b[0m\n\u001b[0;32m---> 64\u001b[0;31m             \u001b[0mtime\u001b[0m\u001b[0;34m.\u001b[0m\u001b[0msleep\u001b[0m\u001b[0;34m(\u001b[0m\u001b[0;36m.5\u001b[0m\u001b[0;34m)\u001b[0m\u001b[0;34m\u001b[0m\u001b[0;34m\u001b[0m\u001b[0m\n\u001b[0m\u001b[1;32m     65\u001b[0m             \u001b[0mclear_output\u001b[0m\u001b[0;34m(\u001b[0m\u001b[0mwait\u001b[0m\u001b[0;34m=\u001b[0m\u001b[0;32mTrue\u001b[0m\u001b[0;34m)\u001b[0m\u001b[0;34m\u001b[0m\u001b[0;34m\u001b[0m\u001b[0m\n\u001b[1;32m     66\u001b[0m \u001b[0;34m\u001b[0m\u001b[0m\n",
      "\u001b[0;31mKeyboardInterrupt\u001b[0m: "
     ]
    }
   ],
   "source": [
    "# POLICY DEMO\n",
    "num_eps = 500\n",
    "env = WindyGridworldEnv()\n",
    "cur_state = env.reset()\n",
    "cur_action = policy[cur_state]\n",
    "\n",
    "for eps in range(num_eps):\n",
    "    new_episode = run_episode(env, cur_state, cur_action, policy, state_action_values, show=True)\n",
    "    print('SUCCESSS!!! '*100)\n",
    "    start_state = env.reset()"
   ]
  },
  {
   "cell_type": "code",
   "execution_count": 80,
   "id": "8a3042fd",
   "metadata": {},
   "outputs": [
    {
     "data": {
      "text/plain": [
       "(0.0, 50.0)"
      ]
     },
     "execution_count": 80,
     "metadata": {},
     "output_type": "execute_result"
    },
    {
     "data": {
      "image/png": "[encoded data removed]",
      "text/plain": [
       "<Figure size 864x432 with 1 Axes>"
      ]
     },
     "metadata": {
      "needs_background": "light"
     },
     "output_type": "display_data"
    }
   ],
   "source": [
    "# PLOT TRAJECTORIES LENGTH\n",
    "lens = []\n",
    "for t in trajectories:#[:1500]:\n",
    "    lens.append(len(t))\n",
    "lens_df = pd.DataFrame(lens)\n",
    "lens_df['mean_len'] = lens_df[0].rolling(10).mean()\n",
    "\n",
    "plt.figure(figsize=(12,6))\n",
    "plt.plot(lens_df['mean_len'])\n",
    "plt.ylim(0,50)"
   ]
  },
  {
   "cell_type": "code",
   "execution_count": null,
   "id": "15d325e9",
   "metadata": {},
   "outputs": [],
   "source": []
  }
 ],
 "metadata": {
  "kernelspec": {
   "display_name": "pipenv_kern",
   "language": "python",
   "name": "pipenv_kern"
  },
  "language_info": {
   "codemirror_mode": {
    "name": "ipython",
    "version": 3
   },
   "file_extension": ".py",
   "mimetype": "text/x-python",
   "name": "python",
   "nbconvert_exporter": "python",
   "pygments_lexer": "ipython3",
   "version": "3.9.6"
  }
 },
 "nbformat": 4,
 "nbformat_minor": 5
}
